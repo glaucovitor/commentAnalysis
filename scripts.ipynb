{
 "cells": [
  {
   "cell_type": "markdown",
   "id": "1f39a7ce-a46a-4251-b4ca-99073255cb05",
   "metadata": {},
   "source": [
    "# importar as bibliotecas"
   ]
  },
  {
   "cell_type": "code",
   "execution_count": null,
   "id": "5468b0ee-800b-43b9-92f7-116cea45c200",
   "metadata": {},
   "outputs": [],
   "source": [
    "import spacy\n",
    "import pandas\n",
    "from sklearn.feature_extraction.text import TfidfVectorizer\n",
    "from sklearn.metrics.pairwise import cosine_similarity"
   ]
  },
  {
   "cell_type": "markdown",
   "id": "87a2cd1e-1b0d-467a-9064-494851eea983",
   "metadata": {},
   "source": [
    "# executar as funções"
   ]
  },
  {
   "cell_type": "code",
   "execution_count": null,
   "id": "6bbf083f-10d0-44fc-ad4b-c829fa662835",
   "metadata": {},
   "outputs": [],
   "source": [
    "def searchSimilar(phrase, Comments) -> list:\n",
    "\tfilterdData = []\n",
    "\t\n",
    "\tnlp = spacy.load(\"pt_core_news_sm\")\n",
    "\tcorpus_old = phrase.split() + (list(Comments['content'].values)) #concatena a phrase na base dados\n",
    "\t\n",
    "\tfor i in corpus_old:\n",
    "\t\tfilterdData.append(clearPhrase(i, nlp, ['PROPN', 'NOUN', 'VERB'])) #eu faço uma limpeza nos comentários, deixando apenas Pronomes pessoais, adjetivos, substantivos e verbos \n",
    "\t\t\n",
    "\tprocessedData = TfidfVectorizer().fit_transform(filterdData) #transformo a base de dados em vetores de números TF-IDF\n",
    "\t\n",
    "\t[lenght, M] = processedData.shape #pego o tamanho da base de dados    \n",
    "\tsimilaritiesList = []    \n",
    "\tfor i in range(1, lenght):\n",
    "\t\ts = cosine_similarity(processedData[0],processedData[i]) #o comentário processedData[0] é a frase digitada pelo usuário, daí preciso computar a distancia dessa frase com todos os comentários da base de dados\n",
    "\t\tif(s != 0): #se a similaridade é zero, nem adiciono o comentário na lista, pois significa que ele é 0 similar\n",
    "\t\t\tsimilaritiesList.append([s, corpus_old[i]])\n",
    "\t\t\n",
    "\treturn similaritiesList   #retorna uma lista com o comentário e a distancia dele da frase que o usuário digitou\n",
    "\t\n",
    "def clearPhrase(doc, nlp, pos_tag):\n",
    "\tif(type(doc) != spacy.tokens.doc.Doc):\n",
    "\t\tdoc = nlp(doc)\n",
    "\treturn ' '.join([str(t.lemma_) for t in doc if t.pos_ in pos_tag]) \n",
    "\n",
    "def addHours(minDate:str,maxDate:str)-> (str,str):\n",
    "\tminDate = minDate + \"00:00:00\"\n",
    "\tmaxDate = maxDate + \"23:59:59\"\n",
    "\n",
    "\treturn minDate,maxDate\n",
    "def getComments(originPath:str,minDate:str = None,maxDate:str = None,versions = None) -> pandas.DataFrame:\n",
    "\t\n",
    "\tcommentsFile = pandas.read_csv(originPath)\n",
    "\n",
    "\tif minDate != None and maxDate != None:\n",
    "\t\tminDate,maxDate = addHours(minDate,maxDate)\n",
    "\n",
    "\tfor i in range(0, len(commentsFile)):\n",
    "\t\tif commentsFile['date'][i] < minDate or commentsFile['date'][i] > maxDate or commentsFile['version'][i] not in versions:\n",
    "\t\t\t#print(\"droped\",commentsFile['version'][i])\n",
    "\t\t\tcommentsFile = commentsFile.drop([i])\n",
    "\treturn commentsFile\n",
    "\n",
    "def sortbyThumbs(file:pandas.DataFrame) -> pandas.DataFrame:\n",
    "\tfile = file.sort_values(by=['thumbs'])\n",
    "\treturn file\n"
   ]
  },
  {
   "cell_type": "markdown",
   "id": "2153bbf7-d143-4355-969e-ec8064a082c1",
   "metadata": {},
   "source": [
    "# coletar os comentários"
   ]
  },
  {
   "cell_type": "code",
   "execution_count": null,
   "id": "be588572-69b5-4a22-a525-7e39bf4d4979",
   "metadata": {},
   "outputs": [],
   "source": [
    "database = getComments(\"./General_Data.csv\",\"2021-09-01\",\"2021-10-01\",\"3.0.0\")"
   ]
  },
  {
   "cell_type": "markdown",
   "id": "4a023915-2e02-45a1-bca8-e67fa2f29080",
   "metadata": {},
   "source": [
    "# buscar por comentários similares"
   ]
  },
  {
   "cell_type": "code",
   "execution_count": null,
   "id": "9e499f10-cab3-4fe3-88f6-d96a01721181",
   "metadata": {},
   "outputs": [],
   "source": [
    "similarities_list = searchSimilar('recuperar senha', database)"
   ]
  },
  {
   "cell_type": "code",
   "execution_count": null,
   "id": "c1d665ec-b4ac-434d-82a7-ea2ae6edf934",
   "metadata": {},
   "outputs": [
    {
     "name": "stdout",
     "output_type": "stream",
     "text": [
      "[[array([[0.13738488]]), 'Boa tarde me chamo Valdelice, não estou conseguindo entrar nas secretárias da prefeitura e nem acessar órgãos do governo, eu não fiz a foto e todo vez d erro de senha . Realmente não consigo resolver nada . E pior preciso da entrada na licença ambiental de um cliente e não consigo, preciso também providenciar o alvará de funcionamento também não consigo. Já fiz de tudo para recuperar e não consigo oi seja um aplicativo que era pra facilitar infelizmente está prejudicando'], [array([[0.15780862]]), 'Estou a dias tentando recuperar uma senha que foi cadastrada em meu nome e não tenho acesso ao e-mail para recuperação,não tenho acesso ao número para receber o sms com o código . Se tento criar uma conta o CPF já existe . Será que por favo vocês poderiam me ajudar . Obrigado e aguardo retorno.'], [array([[0.20724942]]), 'Não lembro minha senha, a única forma de recuperar e em um número de telefone que não tenho mais acesso! As outras opções não dá também! Pois não tenho o que é necessário, o que pede lá. Me ajudem trocar a senhar e ter acesso . Preciso muito.'], [array([[0.2297493]]), 'ola ! olha aplicativo com sérios erros pra recuperar senha... as opções pessoas INSS não batem . tive que ir pessoalmente ao INSS para conseguir uma nova senha.'], [array([[0.23012158]]), 'Esqueci minha senha, e não consigo recuperar em nenhuma opção. Só aparece o telefone ,que é número antigo e não tenho acesso. Gostaria de resolver esse problema . Onde resolvo por favor?'], [array([[0.24370811]]), 'Por favor ,não estou conseguindo acessar minha conta o meu telefone não é o mesmo a tempos ,e o meu e-mail também não tenho mais acesso e preciso recuperar minha conta por favor me ajudem.'], [array([[0.25251877]]), 'Esqueci minha senha de acesso e já fiz de todas as maneiras pra recuperar a senha e nada! O aplicativo não é acessível quanto a isso! Preciso visualizar minha CNH! Por favor, respondam'], [array([[0.2733618]]), 'SIMPLESMENTE HORRÍVEL NÃO CONSIGO RECUPERAR MINHA MINHA NEM POR UM DECRETO MUITO COMPLICADO..'], [array([[0.32387612]]), 'Por favor nos ajude tenho até o dia 01 /10/2021 Para recuperar minha senha, aplicativo tento entrar mostra que há foi feito uma conta com meu CPF coisa que não aconteceu, e infelizmente não consigo recuperar a senha irei perder minha vaga de emprego por quê não vou conseguir entrar no aplicativo .'], [array([[0.35246074]]), 'Difícil de acessar. Não da certo recuperar senha por email. Quantas vezes tem que fazer reconhecimento facial do zero???'], [array([[0.37779666]]), 'site difícil demais pra recuperar senha da entrada no seguro passando raiva'], [array([[0.41394238]]), 'Nao consigo recuperar a minha senha a ou mudar meu numerodo celular'], [array([[0.46241368]]), 'péssimo já tentei de várias forma recuperar minha conta reconhecimento fácil mas não consigo'], [array([[0.49189845]]), 'O aplicativo é péssimo, não estou conseguindo recuperar minha minha senha, não sei mais o que fazer'], [array([[0.51376258]]), 'deu certo recuperar minha senha muito bom'], [array([[0.56298799]]), 'bem complicado,na hora de recuperar o cadastro.'], [array([[0.63477003]]), 'Não estou conseguindo recuperar Minha senha O q fazer'], [array([[0.70557384]]), 'Não consigo recuperar a senha']]\n"
     ]
    }
   ],
   "source": [
    "print(sorted(similarities_list))"
   ]
  }
 ],
 "metadata": {
  "kernelspec": {
   "display_name": "Python 3 (ipykernel)",
   "language": "python",
   "name": "python3"
  },
  "language_info": {
   "codemirror_mode": {
    "name": "ipython",
    "version": 3
   },
   "file_extension": ".py",
   "mimetype": "text/x-python",
   "name": "python",
   "nbconvert_exporter": "python",
   "pygments_lexer": "ipython3",
   "version": "3.7.10"
  },
  "toc-showcode": false,
  "toc-showmarkdowntxt": false,
  "toc-showtags": true
 },
 "nbformat": 4,
 "nbformat_minor": 5
}
